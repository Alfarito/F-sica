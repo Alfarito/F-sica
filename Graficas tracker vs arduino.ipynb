{
 "cells": [
  {
   "cell_type": "markdown",
   "id": "9fcb49c3",
   "metadata": {},
   "source": [
    "Valentina Alfaro Rivera (211702), David Ricardo Moreno (2210697), Alejandra Angarita(210708), Jose Mario Muñoz(2210705)"
   ]
  },
  {
   "cell_type": "code",
   "execution_count": 127,
   "id": "7ae9d074",
   "metadata": {},
   "outputs": [],
   "source": [
    "import matplotlib.pyplot as plt\n",
    "import numpy as np\n",
    "import pandas as pd"
   ]
  },
  {
   "cell_type": "code",
   "execution_count": 128,
   "id": "05d4fb20",
   "metadata": {},
   "outputs": [],
   "source": [
    "data1 = pd.read_excel(\"Downloads\\DatosAnexos.xlsx\", sheet_name = \"PromediosPSI30\" , usecols = \"C\")\n",
    "data2 = pd.read_excel(\"Downloads\\DatosAnexos.xlsx\", sheet_name = \"PromediosPSI30\" , usecols = \"E\")\n",
    "data3 = pd.read_excel(\"Downloads\\DatosAnexos.xlsx\", sheet_name = \"PromediosPSI30\" , usecols = \"H\")\n",
    "data4 = pd.read_excel(\"Downloads\\DatosAnexos.xlsx\", sheet_name = \"PromediosPSI30\" , usecols = \"J\")"
   ]
  },
  {
   "cell_type": "code",
   "execution_count": 129,
   "id": "89a0c310",
   "metadata": {},
   "outputs": [],
   "source": [
    "x_30 = np.array(data1[\"S_x\"])\n",
    "v_30 = np.array(data2[\"S_v\"])\n",
    "x1_30 = np.array(data3[\"T_x\"])\n",
    "v1_30 = np.array(data4[\"T_v\"])"
   ]
  },
  {
   "cell_type": "code",
   "execution_count": 130,
   "id": "bd879847",
   "metadata": {},
   "outputs": [
    {
     "data": {
      "text/plain": [
       "<matplotlib.legend.Legend at 0x269c8ececd0>"
      ]
     },
     "execution_count": 130,
     "metadata": {},
     "output_type": "execute_result"
    },
    {
     "data": {
      "image/png": "[encoded data removed]",
      "text/plain": [
       "<Figure size 432x288 with 1 Axes>"
      ]
     },
     "metadata": {
      "needs_background": "light"
     },
     "output_type": "display_data"
    }
   ],
   "source": [
    "plt.figure()\n",
    "plt.plot(x_30,v_30,\"ro\",label = \"Arduino\")\n",
    "plt.plot(x1_30,v1_30,\"bo\", label = \"Tracker\")\n",
    "plt.xlabel(\"x[m]\")\n",
    "plt.ylabel(\"v[m/s]\")\n",
    "plt.legend()"
   ]
  },
  {
   "cell_type": "code",
   "execution_count": 131,
   "id": "36cea94d",
   "metadata": {},
   "outputs": [],
   "source": [
    "Data_1 = pd.read_excel(\"Downloads\\DatosAnexos.xlsx\", sheet_name = \"PromediosPSI20\" , usecols = \"C\")\n",
    "Data_2 = pd.read_excel(\"Downloads\\DatosAnexos.xlsx\", sheet_name = \"PromediosPSI20\" , usecols = \"E\")\n",
    "Data_3 = pd.read_excel(\"Downloads\\DatosAnexos.xlsx\", sheet_name = \"PromediosPSI20\" , usecols = \"H\")\n",
    "Data_4 = pd.read_excel(\"Downloads\\DatosAnexos.xlsx\", sheet_name = \"PromediosPSI20\" , usecols = \"J\")"
   ]
  },
  {
   "cell_type": "code",
   "execution_count": 132,
   "id": "8bfd3272",
   "metadata": {},
   "outputs": [],
   "source": [
    "x_20 = np.array(Data_1[\"S_x\"])\n",
    "v_20 = np.array(Data_2[\"S_v\"])\n",
    "x1_20 = np.array(Data_3[\"T_x\"])\n",
    "v1_20 = np.array(Data_4[\"T_v\"])"
   ]
  },
  {
   "cell_type": "code",
   "execution_count": 133,
   "id": "d21b3b15",
   "metadata": {},
   "outputs": [
    {
     "data": {
      "text/plain": [
       "<matplotlib.legend.Legend at 0x269c8e2ee50>"
      ]
     },
     "execution_count": 133,
     "metadata": {},
     "output_type": "execute_result"
    },
    {
     "data": {
      "image/png": "[encoded data removed]",
      "text/plain": [
       "<Figure size 432x288 with 1 Axes>"
      ]
     },
     "metadata": {
      "needs_background": "light"
     },
     "output_type": "display_data"
    }
   ],
   "source": [
    "plt.figure()\n",
    "plt.plot(x_20,v_20,\"ro\",label = \"Arduino\")\n",
    "plt.plot(x1_20,v1_20,\"bo\",label = \"Tracker\")\n",
    "plt.xlabel(\"x[m]\")\n",
    "plt.ylabel(\"v[m/s]\")\n",
    "plt.legend()"
   ]
  },
  {
   "cell_type": "code",
   "execution_count": 134,
   "id": "b85c1481",
   "metadata": {},
   "outputs": [],
   "source": [
    "Datos1 = pd.read_excel(\"Downloads\\DatosAnexos.xlsx\", sheet_name = \"PromediosPSI13\", usecols = \"C\")\n",
    "Datos2 = pd.read_excel(\"Downloads\\DatosAnexos.xlsx\", sheet_name = \"PromediosPSI13\", usecols = \"E\")\n",
    "Datos3 = pd.read_excel(\"Downloads\\DatosAnexos.xlsx\", sheet_name = \"PromediosPSI13\", usecols = \"H\")\n",
    "Datos4 = pd.read_excel(\"Downloads\\DatosAnexos.xlsx\", sheet_name = \"PromediosPSI13\", usecols = \"J\")"
   ]
  },
  {
   "cell_type": "code",
   "execution_count": 135,
   "id": "6157b7af",
   "metadata": {},
   "outputs": [],
   "source": [
    "x_13 = np.array(Datos1[\"S_x\"])\n",
    "v_13 = np.array(Datos2[\"S_v\"])\n",
    "x1_13 = np.array(Datos3[\"T_x\"])\n",
    "v1_13 = np.array(Datos4[\"T_v\"])"
   ]
  },
  {
   "cell_type": "code",
   "execution_count": 136,
   "id": "f65c2ef0",
   "metadata": {},
   "outputs": [
    {
     "data": {
      "text/plain": [
       "<matplotlib.legend.Legend at 0x269c90bc2b0>"
      ]
     },
     "execution_count": 136,
     "metadata": {},
     "output_type": "execute_result"
    },
    {
     "data": {
      "image/png": "[encoded data removed]",
      "text/plain": [
       "<Figure size 432x288 with 1 Axes>"
      ]
     },
     "metadata": {
      "needs_background": "light"
     },
     "output_type": "display_data"
    }
   ],
   "source": [
    "plt.figure()\n",
    "plt.plot(x_13,v_13,\"ro\", label = \"Arduino\" )\n",
    "plt.plot(x1_13,v1_13,\"bo\", label = \"Tracker\")\n",
    "plt.xlabel(\"x[m]\")\n",
    "plt.ylabel(\"v[m/s]\")\n",
    "plt.legend()"
   ]
  },
  {
   "cell_type": "code",
   "execution_count": 137,
   "id": "f1fd054c",
   "metadata": {},
   "outputs": [],
   "source": [
    "datar1 = pd.read_excel(\"Downloads\\DatosAnexos.xlsx.xlsx\", sheet_name = \"PromediosPSI13\", usecols = \"K\")\n",
    "dataz1 = pd.read_excel(\"Downloads\\DatosAnexos.xlsx.xlsx\", sheet_name = \"PromediosPSI13\", usecols = \"L\")\n",
    "datah1 = pd.read_excel(\"Downloads\\DatosAnexos.xlsx.xlsx\", sheet_name = \"PromediosPSI13\", usecols = \"M\")\n",
    "datav21 = pd.read_excel(\"Downloads\\DatosAnexos.xlsx.xlsx\", sheet_name = \"PromediosPSI13\", usecols = \"N\")"
   ]
  },
  {
   "cell_type": "code",
   "execution_count": 138,
   "id": "84b91233",
   "metadata": {},
   "outputs": [],
   "source": [
    "r1 =  np.array(datar1[\"r\"])\n",
    "z1 = np.array(dataz1[\"z\"])\n",
    "h1 = np.array(datah1[\"h\"])\n",
    "v21 = np.array(datav21[\"v2\"])"
   ]
  },
  {
   "cell_type": "code",
   "execution_count": 139,
   "id": "331ff5d7",
   "metadata": {},
   "outputs": [
    {
     "data": {
      "text/plain": [
       "<matplotlib.legend.Legend at 0x269c8ffcd90>"
      ]
     },
     "execution_count": 139,
     "metadata": {},
     "output_type": "execute_result"
    },
    {
     "data": {
      "image/png": "[encoded data removed]",
      "text/plain": [
       "<Figure size 432x288 with 1 Axes>"
      ]
     },
     "metadata": {
      "needs_background": "light"
     },
     "output_type": "display_data"
    }
   ],
   "source": [
    "plt.figure()\n",
    "plt.plot(r1,z1,\"bo\", label = \"Tracker\")\n",
    "plt.ylabel(\"z[m]\")\n",
    "plt.xlabel(\" ζ[m]\")\n",
    "plt.legend()"
   ]
  },
  {
   "cell_type": "code",
   "execution_count": 140,
   "id": "60fcb7b1",
   "metadata": {},
   "outputs": [],
   "source": [
    "datar = pd.read_excel(\"Downloads\\DatosAnexos.xlsx\", sheet_name = \"PromediosPSI30\", usecols = \"L\")\n",
    "dataz = pd.read_excel(\"Downloads\\DatosAnexos.xlsx\", sheet_name = \"PromediosPSI30\", usecols = \"M\")\n",
    "datah = pd.read_excel(\"Downloads\\DatosAnexos.xlsx\", sheet_name = \"PromediosPSI30\", usecols = \"O\")\n",
    "datav2 = pd.read_excel(\"Downloads\\DatosAnexos.xlsx\", sheet_name = \"PromediosPSI30\", usecols = \"P\")"
   ]
  },
  {
   "cell_type": "code",
   "execution_count": null,
   "id": "f2c9119e",
   "metadata": {},
   "outputs": [],
   "source": []
  },
  {
   "cell_type": "code",
   "execution_count": 141,
   "id": "d55fee69",
   "metadata": {},
   "outputs": [],
   "source": [
    "r =  np.array(datar[\"r\"])\n",
    "z = np.array(dataz[\"z\"])\n",
    "h = np.array(datah[\"h\"])\n",
    "v2 = np.array(datav2[\"v^2\"])"
   ]
  },
  {
   "cell_type": "code",
   "execution_count": 142,
   "id": "92b962cd",
   "metadata": {},
   "outputs": [
    {
     "data": {
      "text/plain": [
       "<matplotlib.legend.Legend at 0x269c8ae05e0>"
      ]
     },
     "execution_count": 142,
     "metadata": {},
     "output_type": "execute_result"
    },
    {
     "data": {
      "image/png": "[encoded data removed]",
      "text/plain": [
       "<Figure size 432x288 with 1 Axes>"
      ]
     },
     "metadata": {
      "needs_background": "light"
     },
     "output_type": "display_data"
    }
   ],
   "source": [
    "plt.figure()\n",
    "plt.plot(r,z,\"bo\", label = \"Tracker\")\n",
    "plt.ylabel(\"z[m]\")\n",
    "plt.xlabel(\" ζ[m]\")\n",
    "plt.legend()"
   ]
  },
  {
   "cell_type": "code",
   "execution_count": 146,
   "id": "c2f435df",
   "metadata": {},
   "outputs": [
    {
     "data": {
      "text/plain": [
       "<matplotlib.legend.Legend at 0x269ca2d1640>"
      ]
     },
     "execution_count": 146,
     "metadata": {},
     "output_type": "execute_result"
    },
    {
     "data": {
      "image/png": "[encoded data removed]",
      "text/plain": [
       "<Figure size 432x288 with 1 Axes>"
      ]
     },
     "metadata": {
      "needs_background": "light"
     },
     "output_type": "display_data"
    }
   ],
   "source": [
    "plt.figure()\n",
    "plt.plot(h,v2,\"bo\", label = \"Tracker\")\n",
    "plt.xlabel(\"h[m]\")\n",
    "plt.ylabel(\" V^2[m^2/s^2]\")\n",
    "plt.legend()"
   ]
  },
  {
   "cell_type": "code",
   "execution_count": null,
   "id": "01311d3a",
   "metadata": {},
   "outputs": [],
   "source": []
  },
  {
   "cell_type": "code",
   "execution_count": null,
   "id": "0d4db3f1",
   "metadata": {},
   "outputs": [],
   "source": []
  },
  {
   "cell_type": "code",
   "execution_count": null,
   "id": "eeb1185d",
   "metadata": {},
   "outputs": [],
   "source": []
  },
  {
   "cell_type": "code",
   "execution_count": null,
   "id": "642e12a6",
   "metadata": {},
   "outputs": [],
   "source": []
  }
 ],
 "metadata": {
  "kernelspec": {
   "display_name": "Python 3",
   "language": "python",
   "name": "python3"
  },
  "language_info": {
   "codemirror_mode": {
    "name": "ipython",
    "version": 3
   },
   "file_extension": ".py",
   "mimetype": "text/x-python",
   "name": "python",
   "nbconvert_exporter": "python",
   "pygments_lexer": "ipython3",
   "version": "3.8.8"
  }
 },
 "nbformat": 4,
 "nbformat_minor": 5
}
